{
 "cells": [
  {
   "cell_type": "code",
   "execution_count": 5,
   "metadata": {},
   "outputs": [],
   "source": [
    "%matplotlib inline\n",
    "\n",
    "import os\n",
    "os.environ[\"CUDA_VISIBLE_DEVICES\"] = \"1\"\n",
    "os.environ[\"KERAS_BACKEND\"] = \"tensorflow\"\n",
    "import tensorflow as tf\n",
    "tf.set_random_seed(42)\n",
    "config = tf.ConfigProto()\n",
    "config.gpu_options.allow_growth = True\n",
    "session = tf.Session(config=config)\n",
    "           \n",
    "import keras.backend.tensorflow_backend as K\n",
    "\n",
    "import keras\n",
    "from keras.models import Sequential, Model, load_model\n",
    "from keras.layers import Dense, Dropout, Flatten, BatchNormalization\n",
    "from keras.layers import Conv2D, MaxPooling2D, LeakyReLU\n",
    "from keras.layers import Input, merge, Concatenate, concatenate\n",
    "from keras.models import load_model\n",
    "\n",
    "import numpy as np\n",
    "from tqdm import tqdm\n",
    "\n",
    "import matplotlib.pyplot as plt\n",
    "from matplotlib.colors import LogNorm\n",
    "\n",
    "from sklearn.preprocessing import MinMaxScaler\n",
    "from sklearn.model_selection import train_test_split\n",
    "\n",
    "from utils import load_data\n",
    "\n",
    "np.random.seed(42)"
   ]
  },
  {
   "cell_type": "code",
   "execution_count": 6,
   "metadata": {},
   "outputs": [],
   "source": [
    "IMAGE_WIDTH = 29  # x - phi\n",
    "IMAGE_HEIGHT = 15  # y - eta\n"
   ]
  },
  {
   "cell_type": "code",
   "execution_count": 36,
   "metadata": {},
   "outputs": [
    {
     "name": "stdout",
     "output_type": "stream",
     "text": [
      "Loaded outputs/data_1.npz\n",
      "Loaded outputs/data_10.npz\n",
      "Loaded outputs/data_100.npz\n",
      "Loaded outputs/data_101.npz\n",
      "Loaded outputs/data_102.npz\n",
      "Loaded outputs/data_103.npz\n",
      "Loaded outputs/data_104.npz\n",
      "Loaded outputs/data_105.npz\n",
      "Loaded outputs/data_106.npz\n",
      "Loaded outputs/data_107.npz\n",
      "Loaded outputs/data_108.npz\n",
      "Loaded outputs/data_109.npz\n",
      "Loaded outputs/data_11.npz\n",
      "Loaded outputs/data_110.npz\n",
      "Loaded outputs/data_111.npz\n",
      "Loaded outputs/data_12.npz\n",
      "Loaded outputs/data_13.npz\n",
      "Loaded outputs/data_14.npz\n",
      "Loaded outputs/data_15.npz\n",
      "Loaded outputs/data_16.npz\n",
      "Loaded 21 files with 3000000 events\n"
     ]
    }
   ],
   "source": [
    "x_data, y_data, mva_data = load_data(inputdir=\"outputs/\",nevents=3000000)"
   ]
  },
  {
   "cell_type": "code",
   "execution_count": 37,
   "metadata": {
    "scrolled": false
   },
   "outputs": [
    {
     "data": {
      "text/plain": [
       "<matplotlib.image.AxesImage at 0x7f6db0225a50>"
      ]
     },
     "execution_count": 37,
     "metadata": {},
     "output_type": "execute_result"
    },
    {
     "data": {
      "image/png": "[encoded data removed]",
      "text/plain": [
       "<matplotlib.figure.Figure at 0x7f6e600b9790>"
      ]
     },
     "metadata": {},
     "output_type": "display_data"
    },
    {
     "data": {
      "image/png": "[encoded data removed]",
      "text/plain": [
       "<matplotlib.figure.Figure at 0x7f6d5abe44d0>"
      ]
     },
     "metadata": {},
     "output_type": "display_data"
    }
   ],
   "source": [
    "sum_imgs_bg = x_data[(y_data[:,0]<2)].sum(0)\n",
    "sum_imgs_sig = x_data[(y_data[:,0]==2)].sum(0)\n",
    "sum_imgs_bg /= sum_imgs_bg.max()\n",
    "sum_imgs_sig /= sum_imgs_sig.max()\n",
    "plt.matshow(sum_imgs_bg, norm=LogNorm(vmin=1.e-5, vmax=1), cmap='jet')\n",
    "plt.matshow(sum_imgs_sig, norm=LogNorm(vmin=1.e-5, vmax=1), cmap='jet')"
   ]
  },
  {
   "cell_type": "code",
   "execution_count": 38,
   "metadata": {
    "scrolled": false
   },
   "outputs": [],
   "source": [
    "def plot_pts(truth, pts, etas, weights=None, bins=None,logx=True,logy=True,compute_sfs=False):\n",
    "    crange = (5.,300)\n",
    "    is_sig = truth == 2\n",
    "    fig, axs = plt.subplots(1,3,figsize=(16,3.5))\n",
    "    if bins is None:\n",
    "        bins = np.array(range(5,78,2)+range(80,200,5)+range(200,300,10)+range(300,500,100)+range(500,1000+1,500)+[4000])\n",
    "\n",
    "    all_sfs = np.ones(len(pts))\n",
    "    for whicheta, etalabel in [\n",
    "        [0,\"$|\\\\eta|<0.8$\"],\n",
    "        [1,\"$0.8<|\\\\eta|<1.479$\"],\n",
    "        [2,\"$1.479<|\\\\eta|<2.5$\"]\n",
    "    ]:\n",
    "        etarange = np.ones(len(etas))>0\n",
    "        if whicheta == 0:\n",
    "            etarange = (np.abs(etas) > 0.)    & (np.abs(etas) < 0.8)\n",
    "        elif whicheta == 1:\n",
    "            etarange = (np.abs(etas) > 0.8)   & (np.abs(etas) < 1.479)\n",
    "        elif whicheta == 2:\n",
    "            etarange = (np.abs(etas) > 1.479) & (np.abs(etas) < 2.5)\n",
    "\n",
    "        sig_pt = pts[is_sig & etarange]\n",
    "        bkg_pt = pts[(~is_sig) & etarange]\n",
    "        if len(sig_pt) < 1: continue\n",
    "        weights_bkg, weights_sig = None, None\n",
    "        if weights is not None:\n",
    "            weights_bkg = weights[~is_sig & etarange]\n",
    "        counts_bkg, _, _ = axs[whicheta].hist(bkg_pt,range=crange,bins=bins, weights=weights_bkg, histtype=\"step\", lw=2,label=\"bkg\")\n",
    "        counts_sig, _, _ = axs[whicheta].hist(sig_pt,range=crange,bins=bins, weights=weights_sig, histtype=\"step\", lw=2,label=\"signal\")\n",
    "        if logx: axs[whicheta].set_xscale(\"log\", nonposy='clip')\n",
    "        if logy: \n",
    "            axs[whicheta].set_yscale(\"log\", nonposy='clip')\n",
    "            axs[whicheta].set_ylim([0,np.max(counts_bkg)*1.2])\n",
    "        axs[whicheta].set_title(etalabel)\n",
    "        axs[whicheta].legend()\n",
    "    \n",
    "        if compute_sfs:\n",
    "            sfs = counts_sig/counts_bkg\n",
    "            sfs[~np.isfinite(sfs)] = 0.\n",
    "            all_sfs[etarange & (~is_sig)] = sfs[np.digitize(bkg_pt,bins)-1]\n",
    "    \n",
    "    return bins,all_sfs\n",
    "    \n"
   ]
  },
  {
   "cell_type": "code",
   "execution_count": 39,
   "metadata": {},
   "outputs": [
    {
     "name": "stderr",
     "output_type": "stream",
     "text": [
      "/usr/local/lib/python2.7/dist-packages/ipykernel_launcher.py:38: RuntimeWarning: divide by zero encountered in divide\n",
      "/usr/local/lib/python2.7/dist-packages/ipykernel_launcher.py:38: RuntimeWarning: invalid value encountered in divide\n"
     ]
    },
    {
     "data": {
      "image/png": "[encoded data removed]",
      "text/plain": [
       "<matplotlib.figure.Figure at 0x7f6e600b9810>"
      ]
     },
     "metadata": {},
     "output_type": "display_data"
    },
    {
     "data": {
      "image/png": "[encoded data removed]",
      "text/plain": [
       "<matplotlib.figure.Figure at 0x7f6db01e23d0>"
      ]
     },
     "metadata": {},
     "output_type": "display_data"
    }
   ],
   "source": [
    "\n",
    "truth = y_data[:,0]\n",
    "pts = y_data[:,1]\n",
    "etas = y_data[:,2]\n",
    "# plot the pt distributions and get sfs the first time\n",
    "bins, weights = plot_pts(truth,pts,etas,compute_sfs=True)\n",
    "# use these weights event-by-event and plot in more appealing binning\n",
    "_ = plot_pts(truth,pts,etas,weights=weights,bins=np.linspace(5,250,50),logx=False,logy=True)"
   ]
  },
  {
   "cell_type": "code",
   "execution_count": 40,
   "metadata": {},
   "outputs": [
    {
     "name": "stdout",
     "output_type": "stream",
     "text": [
      "Training samples:  2100000\n",
      "Testing samples:  900000\n"
     ]
    }
   ],
   "source": [
    "\n",
    "# make extra/aux inputs and scale them\n",
    "aux_data = y_data[:,[4,5]] # seed iphi, seed ieta\n",
    "# aux_data = y_data[:,[1,4,5]] # pt, seed iphi, seed ieta\n",
    "extra_data = y_data[:,6] # PU, \n",
    "# print \"FIXME\"\n",
    "# aux_data = np.c_[aux_data, y_data[:,0]] # FIXME NOTE THIS IS INJECTING TRUTH INFORMATION!!!!\n",
    "scaler = MinMaxScaler()\n",
    "aux_data = scaler.fit_transform(aux_data)\n",
    "\n",
    "# take the first col from y_data (class label)\n",
    "y_data_class = np.copy(y_data[:,0])\n",
    "y_data_class[y_data_class<2] = 0\n",
    "y_data_class[y_data_class==2] = 1\n",
    "x_train, x_test, y_train, y_test, aux_train, aux_test, extra_train, extra_test, weights_train, weights_test = \\\n",
    "  train_test_split(x_data, y_data_class, aux_data, extra_data, weights, test_size=0.3, random_state=42)\n",
    "print \"Training samples: \", x_train.shape[0]\n",
    "print \"Testing samples: \", x_test.shape[0]\n",
    "\n",
    "# reshape\n",
    "x_train = x_train.reshape(x_train.shape[0], IMAGE_HEIGHT, IMAGE_WIDTH, 1)\n",
    "x_test = x_test.reshape(x_test.shape[0], IMAGE_HEIGHT, IMAGE_WIDTH, 1)\n",
    "input_shape = (IMAGE_HEIGHT, IMAGE_WIDTH, 1)\n",
    "x_train = x_train.astype('float32')\n",
    "x_test = x_test.astype('float32')\n",
    "y_train = keras.utils.to_categorical(y_train, 2)\n",
    "y_test = keras.utils.to_categorical(y_test, 2)"
   ]
  },
  {
   "cell_type": "code",
   "execution_count": 41,
   "metadata": {},
   "outputs": [
    {
     "data": {
      "text/plain": [
       "array([[ 0.66016716,  0.75294119],\n",
       "       [ 0.10306406,  0.1117647 ],\n",
       "       [ 0.22562674,  0.71176469],\n",
       "       ..., \n",
       "       [ 0.20891364,  0.7352941 ],\n",
       "       [ 0.82729805,  0.06470588],\n",
       "       [ 0.39554319,  0.06470588]], dtype=float32)"
      ]
     },
     "execution_count": 41,
     "metadata": {},
     "output_type": "execute_result"
    }
   ],
   "source": [
    "aux_train\n"
   ]
  },
  {
   "cell_type": "code",
   "execution_count": 45,
   "metadata": {
    "scrolled": true
   },
   "outputs": [
    {
     "name": "stderr",
     "output_type": "stream",
     "text": [
      "/usr/local/lib/python2.7/dist-packages/ipykernel_launcher.py:18: UserWarning: Update your `Conv2D` call to the Keras 2 API: `Conv2D(32, padding=\"same\", kernel_size=(3, 3))`\n",
      "/usr/local/lib/python2.7/dist-packages/ipykernel_launcher.py:20: UserWarning: Update your `Conv2D` call to the Keras 2 API: `Conv2D(64, (3, 3), padding=\"same\")`\n"
     ]
    },
    {
     "name": "stdout",
     "output_type": "stream",
     "text": [
      "__________________________________________________________________________________________________\n",
      "Layer (type)                    Output Shape         Param #     Connected to                     \n",
      "==================================================================================================\n",
      "input_11 (InputLayer)           (None, 2)            0                                            \n",
      "__________________________________________________________________________________________________\n",
      "dense_40 (Dense)                (None, 64)           192         input_11[0][0]                   \n",
      "__________________________________________________________________________________________________\n",
      "dropout_35 (Dropout)            (None, 64)           0           dense_40[0][0]                   \n",
      "__________________________________________________________________________________________________\n",
      "input_12 (InputLayer)           (None, 15, 29, 1)    0                                            \n",
      "__________________________________________________________________________________________________\n",
      "dense_41 (Dense)                (None, 32)           2080        dropout_35[0][0]                 \n",
      "__________________________________________________________________________________________________\n",
      "conv2d_11 (Conv2D)              (None, 15, 29, 32)   320         input_12[0][0]                   \n",
      "__________________________________________________________________________________________________\n",
      "dropout_36 (Dropout)            (None, 32)           0           dense_41[0][0]                   \n",
      "__________________________________________________________________________________________________\n",
      "leaky_re_lu_43 (LeakyReLU)      (None, 15, 29, 32)   0           conv2d_11[0][0]                  \n",
      "__________________________________________________________________________________________________\n",
      "leaky_re_lu_40 (LeakyReLU)      (None, 32)           0           dropout_36[0][0]                 \n",
      "__________________________________________________________________________________________________\n",
      "conv2d_12 (Conv2D)              (None, 15, 29, 64)   18496       leaky_re_lu_43[0][0]             \n",
      "__________________________________________________________________________________________________\n",
      "dense_42 (Dense)                (None, 16)           528         leaky_re_lu_40[0][0]             \n",
      "__________________________________________________________________________________________________\n",
      "leaky_re_lu_44 (LeakyReLU)      (None, 15, 29, 64)   0           conv2d_12[0][0]                  \n",
      "__________________________________________________________________________________________________\n",
      "leaky_re_lu_41 (LeakyReLU)      (None, 16)           0           dense_42[0][0]                   \n",
      "__________________________________________________________________________________________________\n",
      "max_pooling2d_6 (MaxPooling2D)  (None, 7, 14, 64)    0           leaky_re_lu_44[0][0]             \n",
      "__________________________________________________________________________________________________\n",
      "dropout_37 (Dropout)            (None, 16)           0           leaky_re_lu_41[0][0]             \n",
      "__________________________________________________________________________________________________\n",
      "dropout_38 (Dropout)            (None, 7, 14, 64)    0           max_pooling2d_6[0][0]            \n",
      "__________________________________________________________________________________________________\n",
      "dense_43 (Dense)                (None, 4)            68          dropout_37[0][0]                 \n",
      "__________________________________________________________________________________________________\n",
      "flatten_6 (Flatten)             (None, 6272)         0           dropout_38[0][0]                 \n",
      "__________________________________________________________________________________________________\n",
      "leaky_re_lu_42 (LeakyReLU)      (None, 4)            0           dense_43[0][0]                   \n",
      "__________________________________________________________________________________________________\n",
      "concatenate_6 (Concatenate)     (None, 6276)         0           flatten_6[0][0]                  \n",
      "                                                                 leaky_re_lu_42[0][0]             \n",
      "__________________________________________________________________________________________________\n",
      "dense_44 (Dense)                (None, 200)          1255400     concatenate_6[0][0]              \n",
      "__________________________________________________________________________________________________\n",
      "dropout_39 (Dropout)            (None, 200)          0           dense_44[0][0]                   \n",
      "__________________________________________________________________________________________________\n",
      "leaky_re_lu_45 (LeakyReLU)      (None, 200)          0           dropout_39[0][0]                 \n",
      "__________________________________________________________________________________________________\n",
      "dense_45 (Dense)                (None, 100)          20100       leaky_re_lu_45[0][0]             \n",
      "__________________________________________________________________________________________________\n",
      "dropout_40 (Dropout)            (None, 100)          0           dense_45[0][0]                   \n",
      "__________________________________________________________________________________________________\n",
      "leaky_re_lu_46 (LeakyReLU)      (None, 100)          0           dropout_40[0][0]                 \n",
      "__________________________________________________________________________________________________\n",
      "dense_46 (Dense)                (None, 30)           3030        leaky_re_lu_46[0][0]             \n",
      "__________________________________________________________________________________________________\n",
      "dropout_41 (Dropout)            (None, 30)           0           dense_46[0][0]                   \n",
      "__________________________________________________________________________________________________\n",
      "leaky_re_lu_47 (LeakyReLU)      (None, 30)           0           dropout_41[0][0]                 \n",
      "__________________________________________________________________________________________________\n",
      "dense_47 (Dense)                (None, 2)            62          leaky_re_lu_47[0][0]             \n",
      "==================================================================================================\n",
      "Total params: 1,300,276\n",
      "Trainable params: 1,300,276\n",
      "Non-trainable params: 0\n",
      "__________________________________________________________________________________________________\n"
     ]
    }
   ],
   "source": [
    "do_merge = True\n",
    "\n",
    "# auxiliary stuff\n",
    "aux_inp = Input(shape=(len(aux_train[0]),))\n",
    "x = Dense(64, kernel_initializer=\"uniform\",activation=\"sigmoid\")(aux_inp)\n",
    "x = Dropout(0.1)(x)\n",
    "x = Dense(32)(x)\n",
    "x = Dropout(0.1)(x)\n",
    "x = LeakyReLU(0.1)(x)\n",
    "x = Dense(16)(x)\n",
    "x = LeakyReLU(0.1)(x)\n",
    "x = Dropout(0.1)(x)\n",
    "x = Dense(4)(x)\n",
    "aux_out = LeakyReLU(0.1)(x)\n",
    "\n",
    "# ecal stuff\n",
    "ecal_inp = Input(shape=input_shape)\n",
    "x = Conv2D(32, kernel_size=(3, 3), border_mode=\"same\")(ecal_inp)\n",
    "x = LeakyReLU(0.1)(x)\n",
    "x = Conv2D(64, (3, 3), border_mode=\"same\")(x)\n",
    "x = LeakyReLU(0.1)(x)\n",
    "x = MaxPooling2D(pool_size=(2, 2))(x)\n",
    "x = Dropout(0.2)(x)\n",
    "x = Flatten()(x)\n",
    "if do_merge:\n",
    "    x = concatenate([x,aux_out])\n",
    "x = Dense(200)(x)\n",
    "x = Dropout(0.3)(x)\n",
    "x = LeakyReLU(0.1)(x)\n",
    "x = Dense(100)(x)\n",
    "x = Dropout(0.1)(x)\n",
    "x = LeakyReLU(0.1)(x)\n",
    "x = Dense(30)(x)\n",
    "x = Dropout(0.1)(x)\n",
    "x = LeakyReLU(0.1)(x)\n",
    "out = Dense(2, activation='softmax')(x)\n",
    "inputs = [ecal_inp,aux_inp] if do_merge else [ecal_inp]\n",
    "model = Model(inputs=inputs,outputs=out)\n",
    "\n",
    "# print model.output.shape\n",
    "# print x_train.shape\n",
    "# print x_test.shape\n",
    "# print y_test.shape\n",
    "model.summary()\n",
    "\n",
    "model.compile(loss='binary_crossentropy',\n",
    "              optimizer=\"adam\",\n",
    "              metrics=['accuracy'])\n",
    "\n",
    "\n"
   ]
  },
  {
   "cell_type": "code",
   "execution_count": 46,
   "metadata": {},
   "outputs": [],
   "source": [
    "x_train_ = [x_train,aux_train] if do_merge else [x_train]\n",
    "x_test_ = [x_test,aux_test] if do_merge else [x_test]"
   ]
  },
  {
   "cell_type": "code",
   "execution_count": null,
   "metadata": {
    "scrolled": true
   },
   "outputs": [
    {
     "name": "stdout",
     "output_type": "stream",
     "text": [
      "Train on 2100000 samples, validate on 900000 samples\n",
      "Epoch 1/25\n"
     ]
    }
   ],
   "source": [
    "\n",
    "history = model.fit(x_train_, y_train,\n",
    "                    batch_size=128,\n",
    "                    epochs=25,\n",
    "                    verbose=2,\n",
    "                    shuffle=True,\n",
    "                    sample_weight=weights_train,\n",
    "                    validation_data=(x_test_, y_test, weights_test))\n",
    "score = model.evaluate(x_test_, y_test, verbose=1)\n",
    "print 'Test loss:', score[0]\n",
    "print 'Test accuracy:', score[1]"
   ]
  },
  {
   "cell_type": "code",
   "execution_count": null,
   "metadata": {},
   "outputs": [],
   "source": [
    "extra_test\n",
    "preds = model.predict([x_test,aux_test])[:,1]"
   ]
  },
  {
   "cell_type": "code",
   "execution_count": null,
   "metadata": {},
   "outputs": [],
   "source": [
    "print extra_test.shape\n",
    "print preds.shape\n",
    "print y_test[:,1].shape\n",
    "bins = np.linspace(0.,70,70//3)\n",
    "counts_num,edges = np.histogram(extra_test[(preds > 0.5) & (y_test[:,1] == 1)],bins=bins)\n",
    "counts_den,edges = np.histogram(extra_test[(y_test[:,1] == 1)],bins=bins)\n",
    "print 1.0*counts_num/counts_den\n",
    "plt.plot(edges[:-1],1.0*counts_num/counts_den)"
   ]
  },
  {
   "cell_type": "code",
   "execution_count": null,
   "metadata": {},
   "outputs": [],
   "source": [
    "model.save('model.h5')"
   ]
  },
  {
   "cell_type": "code",
   "execution_count": null,
   "metadata": {},
   "outputs": [],
   "source": [
    "fig, axs = plt.subplots(1,2,figsize=(8,4))\n",
    "axs[0].plot(history.history[\"loss\"],\"b-\",linewidth=2)\n",
    "axs[0].plot(history.history[\"val_loss\"],\"g-\",linewidth=2)\n",
    "axs[0].set_yscale(\"linear\", nonposy='clip')\n",
    "axs[0].set_xlabel(\"epoch\")\n",
    "axs[0].legend([\"loss\",\"val loss\"])\n",
    "\n",
    "axs[1].plot(history.history[\"loss\"],\"b-\",linewidth=2)\n",
    "axs[1].plot(history.history[\"val_loss\"],\"g-\",linewidth=2)\n",
    "axs[1].set_yscale(\"log\", nonposy='clip')\n",
    "axs[0].set_xlabel(\"epoch\")"
   ]
  },
  {
   "cell_type": "code",
   "execution_count": null,
   "metadata": {},
   "outputs": [],
   "source": [
    "fig, ax = plt.subplots(1,1,figsize=(6,4))\n",
    "ax.plot(history.history[\"loss\"],\"b-\",linewidth=2)\n",
    "ax.plot(history.history[\"val_loss\"],\"g-\",linewidth=2)\n",
    "ax.plot(history.history[\"acc\"],\"r-\",linewidth=2)\n",
    "ax.plot(history.history[\"val_acc\"],\"k-\",linewidth=2)\n",
    "ax.set_yscale(\"linear\", nonposy='clip')\n",
    "ax.set_xlabel(\"epoch\")\n",
    "ax.legend([\"loss\",\"val loss\",\"acc\",\"val_acc\"])"
   ]
  },
  {
   "cell_type": "code",
   "execution_count": null,
   "metadata": {},
   "outputs": [],
   "source": [
    "model = load_model(\"model.h5\")"
   ]
  },
  {
   "cell_type": "code",
   "execution_count": null,
   "metadata": {},
   "outputs": [],
   "source": [
    "preds = model.predict(x_test_)"
   ]
  },
  {
   "cell_type": "code",
   "execution_count": null,
   "metadata": {},
   "outputs": [],
   "source": [
    "_ = plt.hist(preds[:,1],bins=100)"
   ]
  },
  {
   "cell_type": "code",
   "execution_count": null,
   "metadata": {},
   "outputs": [],
   "source": [
    "N = 10\n",
    "x_first_sig = x_test[y_test[:,1]==1][:N]\n",
    "# aux_first_sig = aux_test[y_test[:,1]==1][:N]\n",
    "print model.predict([x_first_sig,aux_first_sig])\n",
    "x_first_bkg = x_test[y_test[:,1]==0][:N]\n",
    "# aux_first_bkg = aux_test[y_test[:,1]==0][:N]\n",
    "print model.predict([x_first_bkg,aux_first_bkg])"
   ]
  },
  {
   "cell_type": "code",
   "execution_count": null,
   "metadata": {},
   "outputs": [],
   "source": [
    "aux_first_sig.shape\n",
    "scaler.inverse_transform(aux_first_sig)"
   ]
  },
  {
   "cell_type": "code",
   "execution_count": null,
   "metadata": {},
   "outputs": [],
   "source": [
    "\n",
    "iphis = np.arange(1,50+1)\n",
    "ietas = np.arange(1,60+1)\n",
    "# make (Nphis*Netas,2) shape array (2 columns) for the aux inputs\n",
    "auxuntiled = np.array([np.tile(ietas,1*len(iphis)), np.repeat(iphis,1*len(ietas))]).T\n",
    "# make another version with each row duplicated N times\n",
    "auxtiled = np.array([np.tile(ietas,N*len(iphis)), np.repeat(iphis,N*len(ietas))]).T\n",
    "# and transform the tiled one\n",
    "auxtiled = scaler.transform(auxtiled)\n",
    "# make duplicate the N x-inputs by Nphis*Netas\n",
    "xtiled = np.tile(x_first_sig,(len(iphis)*len(ietas),1,1,1))\n",
    "# predict\n",
    "preds = model.predict([xtiled,auxtiled])\n",
    "# get untiled predictions (each row has avg prediction for that ieta,iphi over\n",
    "# the N samples)\n",
    "predsuntiled = preds[:,1].reshape(preds.shape[0]//N,N).mean(1)\n",
    "result = np.c_[predsuntiled,auxuntiled]\n",
    "print result\n",
    "# print np.c_[preds,auxtiled]\n",
    "# print result"
   ]
  },
  {
   "cell_type": "code",
   "execution_count": null,
   "metadata": {},
   "outputs": [],
   "source": [
    "result[:,0].mean()"
   ]
  },
  {
   "cell_type": "code",
   "execution_count": null,
   "metadata": {},
   "outputs": [],
   "source": [
    "N = 10\n",
    "x_first_sig = x_test[y_test[:,1]==1][:N]\n",
    "aux_first_sig = aux_test[y_test[:,1]==1][:N]\n",
    "print model.predict([x_first_sig,aux_first_sig])\n",
    "aux_first_sig *= 0.\n",
    "print model.predict([x_first_sig,aux_first_sig])"
   ]
  },
  {
   "cell_type": "code",
   "execution_count": null,
   "metadata": {
    "scrolled": true
   },
   "outputs": [],
   "source": [
    "for layer in model.layers:\n",
    "    if layer.name not in [\"dense_9\", # 32\n",
    "                    \"dense_10\", # 16\n",
    "                    \"dense_11\", # 4\n",
    "                     ]: \n",
    "        continue\n",
    "    print layer.name\n",
    "    print layer.get_weights()"
   ]
  },
  {
   "cell_type": "code",
   "execution_count": null,
   "metadata": {},
   "outputs": [],
   "source": []
  }
 ],
 "metadata": {
  "kernelspec": {
   "display_name": "Python 2",
   "language": "python",
   "name": "python2"
  }
 },
 "nbformat": 4,
 "nbformat_minor": 2
}
